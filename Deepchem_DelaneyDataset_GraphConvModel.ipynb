{
  "nbformat": 4,
  "nbformat_minor": 0,
  "metadata": {
    "colab": {
      "name": "Deepchem_DelaneyDataset_GraphConvModel.ipynb",
      "provenance": []
    },
    "kernelspec": {
      "name": "python3",
      "display_name": "Python 3"
    },
    "accelerator": "GPU"
  },
  "cells": [
    {
      "cell_type": "code",
      "metadata": {
        "id": "lS-nREd_tLEd",
        "colab_type": "code",
        "colab": {}
      },
      "source": [
        "# takes 5-10 minutes\n",
        "!wget -c https://repo.continuum.io/miniconda/Miniconda3-latest-Linux-x86_64.sh\n",
        "!chmod +x Miniconda3-latest-Linux-x86_64.sh\n",
        "!time bash ./Miniconda3-latest-Linux-x86_64.sh -b -f -p /usr/local\n",
        "!conda install -y -c deepchem -c rdkit -c conda-forge -c omnia deepchem-gpu=2.3.0 python=3.6"
      ],
      "execution_count": 0,
      "outputs": []
    },
    {
      "cell_type": "code",
      "metadata": {
        "id": "_q2h3J00xUyV",
        "colab_type": "code",
        "colab": {}
      },
      "source": [
        "import sys\n",
        "sys.path.append('/usr/local/lib/python3.6/site-packages/') \n",
        "import deepchem as dc\n",
        "import numpy as np\n",
        "from deepchem.models import GraphConvModel\n",
        "import tensorflow as tf\n",
        "import deepchem as dc\n",
        "from deepchem.molnet import load_delaney"
      ],
      "execution_count": 0,
      "outputs": []
    },
    {
      "cell_type": "code",
      "metadata": {
        "id": "z0r9RcmHxyoh",
        "colab_type": "code",
        "colab": {}
      },
      "source": [
        "# Load Delaney dataset\n",
        "delaney_tasks, delaney_datasets, transformers = load_delaney(\n",
        "    featurizer='GraphConv', split='index')\n",
        "train_dataset, valid_dataset, test_dataset = delaney_datasets\n",
        "\n",
        "# Fit models\n",
        "metric = dc.metrics.Metric(dc.metrics.pearson_r2_score, np.mean)\n",
        "\n",
        "# Do setup required for tf/keras models\n",
        "# Number of features on conv-mols\n",
        "n_feat = 75\n",
        "# Batch size of models\n",
        "batch_size = 128\n",
        "model = GraphConvModel(\n",
        "    len(delaney_tasks), batch_size=batch_size, mode='regression')\n",
        "\n",
        "# Fit trained model\n",
        "model.fit(train_dataset, nb_epoch=20)\n",
        "\n",
        "print(\"Evaluating model\")\n",
        "train_scores = model.evaluate(train_dataset, [metric], transformers)\n",
        "valid_scores = model.evaluate(valid_dataset, [metric], transformers)\n",
        "\n",
        "print(\"Train scores\")\n",
        "print(train_scores)\n",
        "\n",
        "print(\"Validation scores\")\n",
        "print(valid_scores)"
      ],
      "execution_count": 0,
      "outputs": []
    }
  ]
}
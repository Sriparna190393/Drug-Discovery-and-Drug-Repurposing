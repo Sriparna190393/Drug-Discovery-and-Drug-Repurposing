{
  "nbformat": 4,
  "nbformat_minor": 0,
  "metadata": {
    "colab": {
      "name": "DeepChem_TOX21_drugDiscovery.ipynb",
      "provenance": [],
      "collapsed_sections": []
    },
    "kernelspec": {
      "name": "python3",
      "display_name": "Python 3"
    },
    "accelerator": "GPU"
  },
  "cells": [
    {
      "cell_type": "markdown",
      "metadata": {
        "id": "_xy0R6_hftgu",
        "colab_type": "text"
      },
      "source": [
        "Installing Deepchem and importing packages"
      ]
    },
    {
      "cell_type": "code",
      "metadata": {
        "id": "E65fv8M7XG8y",
        "colab_type": "code",
        "colab": {}
      },
      "source": [
        "!wget -c https://repo.continuum.io/miniconda/Miniconda3-latest-Linux-x86_64.sh\n",
        "!chmod +x Miniconda3-latest-Linux-x86_64.sh\n",
        "!time bash ./Miniconda3-latest-Linux-x86_64.sh -b -f -p /usr/local\n",
        "!conda install -y -c deepchem -c rdkit -c conda-forge -c omnia deepchem-gpu=2.3.0 python=3.6\n",
        "\n",
        "from __future__ import division\n",
        "from __future__ import print_function\n",
        "from __future__ import unicode_literals\n",
        "\n",
        "import sys\n",
        "sys.path.append('/usr/local/lib/python3.6/site-packages/')\n",
        "import deepchem as dc\n",
        "import numpy as np\n",
        "from deepchem.models import GraphConvModel\n",
        "import tensorflow as tf"
      ],
      "execution_count": 0,
      "outputs": []
    },
    {
      "cell_type": "markdown",
      "metadata": {
        "id": "jh2Mt870f3QJ",
        "colab_type": "text"
      },
      "source": [
        "Loading Tox21 dataset\n"
      ]
    },
    {
      "cell_type": "code",
      "metadata": {
        "id": "GFqWdao7RvJY",
        "colab_type": "code",
        "colab": {}
      },
      "source": [
        "# Load Tox21 dataset\n",
        "tox21_tasks, tox21_datasets, transformers = dc.molnet.load_tox21(featurizer='GraphConv')\n",
        "train_dataset, valid_dataset, test_dataset = tox21_datasets"
      ],
      "execution_count": 0,
      "outputs": []
    },
    {
      "cell_type": "markdown",
      "metadata": {
        "id": "U_qcz9YFgAvx",
        "colab_type": "text"
      },
      "source": [
        "Training and evaluating Graph Convolution model"
      ]
    },
    {
      "cell_type": "code",
      "metadata": {
        "id": "Ib31vqoOXeiR",
        "colab_type": "code",
        "colab": {}
      },
      "source": [
        "# Training the Graph Convolution Network\n",
        "model = GraphConvModel(\n",
        "    len(tox21_tasks), batch_size=10, mode='classification')\n",
        "# Set nb_epoch=10 for better results.\n",
        "model.fit(train_dataset, nb_epoch=50)\n",
        "\n",
        "metric = dc.metrics.Metric(\n",
        "    dc.metrics.roc_auc_score, np.mean, mode=\"classification\")\n",
        "\n",
        "# Evaluating the model\n",
        "print(\"Evaluating model\")\n",
        "train_scores = model.evaluate(train_dataset, [metric], transformers)\n",
        "print(\"Training ROC-AUC Score: %f\" % train_scores[\"mean-roc_auc_score\"])\n",
        "valid_scores = model.evaluate(valid_dataset, [metric], transformers)\n",
        "print(\"Validation ROC-AUC Score: %f\" % valid_scores[\"mean-roc_auc_score\"])\n",
        "test_scores = model.evaluate(test_dataset, [metric], transformers)\n",
        "print(\"Test ROC-AUC Score: %f\" % test_scores[\"mean-roc_auc_score\"])"
      ],
      "execution_count": 0,
      "outputs": []
    }
  ]
}